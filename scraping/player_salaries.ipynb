{
 "cells": [
  {
   "cell_type": "markdown",
   "metadata": {},
   "source": [
    "# Imports"
   ]
  },
  {
   "cell_type": "code",
   "execution_count": 1,
   "metadata": {},
   "outputs": [],
   "source": [
    "import os\n",
    "import pandas as pd\n",
    "\n",
    "\n",
    "from dotenv import load_dotenv\n",
    "import requests\n",
    "from sqlalchemy import create_engine\n",
    "from bs4 import BeautifulSoup\n",
    "\n",
    "from packages.utils import extract_player_salaries, load_into_db, grab_all_salaries"
   ]
  },
  {
   "cell_type": "code",
   "execution_count": 2,
   "metadata": {},
   "outputs": [],
   "source": [
    "\n",
    "dotenv_path = (\"/Users/maukanmir/Documents/Machine-Learning/Web-Scraping-Code/Player-Salaries/dot.env\")\n",
    "load_dotenv(dotenv_path)\n",
    "\n",
    "DB_USER = os.getenv(\"DB_USER\")\n",
    "DB_PASSWORD = os.getenv(\"DB_PASSWORD\")\n",
    "DB_HOST = os.getenv(\"DB_HOST\")\n",
    "DB_PORT = os.getenv(\"DB_PORT\")\n",
    "DB_NAME = os.getenv(\"DB_NAME\")\n",
    "TABLE_NAME_PlAYER_SALARIES = \"player_salaries\"\n",
    "TABLE_NAME_MASTER_PLAYER_SALARIES = \"master_player_salaries\"\n",
    "\n",
    "engine = create_engine(f'postgresql+psycopg2://{DB_USER}:{DB_PASSWORD}@{DB_HOST}/{DB_NAME}')"
   ]
  },
  {
   "cell_type": "markdown",
   "metadata": {},
   "source": [
    "# Grabbing Player Salaries from 2011-2024"
   ]
  },
  {
   "cell_type": "code",
   "execution_count": 20,
   "metadata": {},
   "outputs": [],
   "source": [
    "years = [str(year) for year in range(2011, 2025)]\n",
    "all_data = pd.DataFrame()\n",
    "\n",
    "for year in years:\n",
    "  url = f\"https://www.spotrac.com/nba/rankings/player/_/year/{year}/sort/cash_total\"\n",
    "  response = requests.get(url)\n",
    "  year = int(year)\n",
    "  df = extract_player_salaries(response.text, year)\n",
    "  all_data = pd.concat([all_data, df])"
   ]
  },
  {
   "cell_type": "markdown",
   "metadata": {},
   "source": [
    "# Download Dataset into DB"
   ]
  },
  {
   "cell_type": "code",
   "execution_count": 21,
   "metadata": {},
   "outputs": [
    {
     "name": "stdout",
     "output_type": "stream",
     "text": [
      "Data successfully written to the database.\n"
     ]
    }
   ],
   "source": [
    "load_into_db(all_data, engine, TABLE_NAME_PlAYER_SALARIES)"
   ]
  },
  {
   "cell_type": "markdown",
   "metadata": {},
   "source": [
    "# Grabbing Player Salaries From 1989-2024"
   ]
  },
  {
   "cell_type": "code",
   "execution_count": 7,
   "metadata": {},
   "outputs": [
    {
     "name": "stdout",
     "output_type": "stream",
     "text": [
      "1990-1991\n",
      "list index out of range ['A']\n",
      "list index out of range ['C']\n",
      "list index out of range ['J']\n",
      "list index out of range ['R']\n",
      "list index out of range ['A']\n",
      "list index out of range ['J']\n",
      "list index out of range ['A']\n",
      "list index out of range ['J']\n",
      "1991-1992\n",
      "list index out of range ['A']\n",
      "list index out of range ['C']\n",
      "list index out of range ['J']\n",
      "list index out of range ['R']\n",
      "list index out of range ['A']\n",
      "list index out of range ['J']\n",
      "list index out of range ['A']\n",
      "list index out of range ['J']\n",
      "1992-1993\n",
      "list index out of range ['A']\n",
      "list index out of range ['C']\n",
      "list index out of range ['J']\n",
      "list index out of range ['R']\n",
      "list index out of range ['A']\n",
      "list index out of range ['J']\n",
      "list index out of range ['A']\n",
      "list index out of range ['J']\n",
      "1993-1994\n",
      "list index out of range ['A']\n",
      "list index out of range ['C']\n",
      "list index out of range ['J']\n",
      "list index out of range ['R']\n",
      "list index out of range ['A']\n",
      "list index out of range ['J']\n",
      "1994-1995\n",
      "list index out of range ['A']\n",
      "list index out of range ['C']\n",
      "list index out of range ['J']\n",
      "list index out of range ['R']\n",
      "list index out of range ['B']\n",
      "list index out of range ['J']\n",
      "1995-1996\n",
      "list index out of range ['A']\n",
      "list index out of range ['C']\n",
      "list index out of range ['J']\n",
      "list index out of range ['R']\n",
      "list index out of range ['B']\n",
      "list index out of range ['J']\n",
      "1996-1997\n",
      "1997-1998\n",
      "list index out of range ['A']\n",
      "list index out of range ['C']\n",
      "list index out of range ['B']\n",
      "list index out of range ['J']\n",
      "list index out of range ['J']\n",
      "list index out of range ['R']\n",
      "1998-1999\n",
      "list index out of range ['A']\n",
      "list index out of range ['C']\n",
      "list index out of range ['B']\n",
      "list index out of range ['J']\n",
      "list index out of range ['J']\n",
      "list index out of range ['R']\n",
      "list index out of range ['J']\n",
      "list index out of range ['R']\n",
      "1999-2000\n",
      "list index out of range ['J']\n",
      "list index out of range ['R']\n",
      "list index out of range ['A']\n",
      "list index out of range ['C']\n",
      "list index out of range ['B']\n",
      "list index out of range ['J']\n",
      "list index out of range ['A']\n",
      "list index out of range ['J']\n",
      "2000-2001\n",
      "list index out of range ['A']\n",
      "list index out of range ['C']\n",
      "list index out of range ['J']\n",
      "list index out of range ['R']\n",
      "2001-2002\n",
      "2002-2003\n",
      "list index out of range ['J']\n",
      "list index out of range ['R']\n",
      "2003-2004\n",
      "2004-2005\n",
      "2005-2006\n",
      "2006-2007\n",
      "2007-2008\n",
      "list index out of range ['D']\n",
      "list index out of range ['J']\n",
      "2008-2009\n",
      "2009-2010\n",
      "2010-2011\n",
      "2011-2012\n",
      "2012-2013\n",
      "2013-2014\n",
      "2014-2015\n",
      "2015-2016\n",
      "2016-2017\n",
      "2017-2018\n",
      "2018-2019\n",
      "2019-2020\n",
      "2020-2021\n",
      "2021-2022\n",
      "2022-2023\n",
      "2023-2024\n",
      "2024-2025\n"
     ]
    }
   ],
   "source": [
    "all_data = pd.DataFrame()\n",
    "years = [str(year) + \"-\" + str(year+1) for year in range(1990, 2025)]\n",
    "for year in years:\n",
    "  print(year)\n",
    "  base_url = f\"https://hoopshype.com/salaries/players/{year}/\"\n",
    "  response = requests.get(base_url)\n",
    "  df = grab_all_salaries(response.text, year)\n",
    "  all_data = pd.concat([all_data, df])"
   ]
  },
  {
   "cell_type": "code",
   "execution_count": 8,
   "metadata": {},
   "outputs": [
    {
     "data": {
      "text/plain": [
       "np.int64(0)"
      ]
     },
     "execution_count": 8,
     "metadata": {},
     "output_type": "execute_result"
    }
   ],
   "source": [
    "all_data.duplicated().sum()"
   ]
  },
  {
   "cell_type": "code",
   "execution_count": 9,
   "metadata": {},
   "outputs": [
    {
     "name": "stdout",
     "output_type": "stream",
     "text": [
      "Data successfully written to the database.\n"
     ]
    }
   ],
   "source": [
    "load_into_db(all_data, engine, TABLE_NAME_MASTER_PLAYER_SALARIES)"
   ]
  }
 ],
 "metadata": {
  "kernelspec": {
   "display_name": "machine-learning-env",
   "language": "python",
   "name": "python3"
  },
  "language_info": {
   "codemirror_mode": {
    "name": "ipython",
    "version": 3
   },
   "file_extension": ".py",
   "mimetype": "text/x-python",
   "name": "python",
   "nbconvert_exporter": "python",
   "pygments_lexer": "ipython3",
   "version": "3.9.19"
  }
 },
 "nbformat": 4,
 "nbformat_minor": 2
}
