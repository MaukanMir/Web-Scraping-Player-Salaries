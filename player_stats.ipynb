{
 "cells": [
  {
   "cell_type": "markdown",
   "metadata": {},
   "source": [
    "# Imports"
   ]
  },
  {
   "cell_type": "code",
   "execution_count": 30,
   "metadata": {},
   "outputs": [],
   "source": [
    "import pandas as pd\n",
    "import numpy as np\n",
    "\n",
    "from dotenv import load_dotenv\n",
    "import os\n",
    "from bs4 import BeautifulSoup\n",
    "import requests"
   ]
  },
  {
   "cell_type": "markdown",
   "metadata": {},
   "source": [
    "# Constants"
   ]
  },
  {
   "cell_type": "code",
   "execution_count": 31,
   "metadata": {},
   "outputs": [],
   "source": [
    "dotenv_path = (\"/Users/maukanmir/Documents/Machine-Learning/Web-Scraping-Code/Player-Salaries/dot.env\")\n",
    "load_dotenv(dotenv_path)\n",
    "\n",
    "DB_USER = os.getenv(\"DB_USER\")\n",
    "DB_PASSWORD = os.getenv(\"DB_PASSWORD\")\n",
    "DB_HOST = os.getenv(\"DB_HOST\")\n",
    "DB_PORT = os.getenv(\"DB_PORT\")\n",
    "DB_NAME = os.getenv(\"DB_NAME\")\n",
    "TABLE_NAME = \"player_stats\""
   ]
  },
  {
   "cell_type": "markdown",
   "metadata": {},
   "source": [
    "# Functions"
   ]
  },
  {
   "cell_type": "code",
   "execution_count": 32,
   "metadata": {},
   "outputs": [],
   "source": [
    "def extract_nba_stats(html_content, year):\n",
    "  \n",
    "  soup = BeautifulSoup(html_content, 'html.parser')\n",
    "  master_df = []\n",
    "  tds = soup.find_all(\"td\")\n",
    "  player_stats = [td.text.strip() for td in tds]\n",
    "  player_columns = [\"Rank\", \"Name\", \"Team\", \"GP\", \"MPG\", \"PPG\", \"FGM\", \"FGA\", \"FG%\", \"3PM\", \"3PA\", \"3P%\", \"FTM\", \"FTA\", \"FT%\", \"ORB\", \"DRB\", \"RPG\", \"APG\", \"SPG\", \"BPG\", \"TOV\", \"PF\"]\n",
    "\n",
    "  count = 0\n",
    "  player_dict = {}\n",
    "  for idx, player_stat in enumerate(player_stats):\n",
    "    \n",
    "    if count == 22:\n",
    "      master_df.append(player_dict)\n",
    "      player_dict = {}\n",
    "      count = 0\n",
    "    else:\n",
    "      col = player_columns[count]\n",
    "      player_dict[col] = player_stat\n",
    "      count +=1\n",
    "  \n",
    "  df = pd.DataFrame(master_df)\n",
    "  df[\"season\"] = year\n",
    "  return df\n",
    "  "
   ]
  },
  {
   "cell_type": "code",
   "execution_count": 33,
   "metadata": {},
   "outputs": [],
   "source": [
    "years = [str(year+1) for year in range(1990, 2024)]\n",
    "pages = range(1, 4)"
   ]
  },
  {
   "cell_type": "code",
   "execution_count": 36,
   "metadata": {},
   "outputs": [],
   "source": [
    "all_data= pd.DataFrame()\n",
    "for year in years:\n",
    "  for page in pages:\n",
    "    base_url = f\"https://basketball.realgm.com/nba/stats/{year}/Averages/Qualified/points/All/desc/{page}/Regular_Season\"\n",
    "    response = requests.get(base_url)\n",
    "    try:\n",
    "      df = extract_nba_stats(response.text, year)\n",
    "      all_data = pd.concat([all_data, df])\n",
    "    except Exception as error:\n",
    "      print(f\" THe error is {error}\")"
   ]
  },
  {
   "cell_type": "code",
   "execution_count": 39,
   "metadata": {},
   "outputs": [],
   "source": [
    "all_data.drop(\"Rank\", inplace=True, axis=1)"
   ]
  },
  {
   "cell_type": "code",
   "execution_count": null,
   "metadata": {},
   "outputs": [],
   "source": []
  },
  {
   "cell_type": "code",
   "execution_count": null,
   "metadata": {},
   "outputs": [],
   "source": [
    "\n",
    "# # Create Chrome options if needed (optional)\n",
    "# opts = Options()\n",
    "# opts.add_argument(\"--headless\")  # Example option, run Chrome in headless mode\n",
    "\n",
    "# # Initialize the WebDriver using webdriver-manager\n",
    "# web_driver = webdriver.Chrome(service=Service(ChromeDriverManager().install()), options=opts)\n",
    "\n",
    "# # Example usage\n",
    "# web_driver.get(\"https://www.nba.com/stats/leaders?SeasonType=Regular+Season&Season=2023-24\")\n",
    "# print(web_driver.title)  # Prints the title of the page"
   ]
  }
 ],
 "metadata": {
  "kernelspec": {
   "display_name": "machine-learning-env",
   "language": "python",
   "name": "python3"
  },
  "language_info": {
   "codemirror_mode": {
    "name": "ipython",
    "version": 3
   },
   "file_extension": ".py",
   "mimetype": "text/x-python",
   "name": "python",
   "nbconvert_exporter": "python",
   "pygments_lexer": "ipython3",
   "version": "3.9.19"
  }
 },
 "nbformat": 4,
 "nbformat_minor": 2
}
