{
 "cells": [
  {
   "cell_type": "markdown",
   "metadata": {},
   "source": [
    "# Imports"
   ]
  },
  {
   "cell_type": "code",
   "execution_count": 183,
   "metadata": {},
   "outputs": [],
   "source": [
    "import pandas as pd\n",
    "import psycopg2\n",
    "import psycopg2.extras\n",
    "\n",
    "from dotenv import load_dotenv\n",
    "import os\n",
    "from bs4 import BeautifulSoup\n",
    "import requests"
   ]
  },
  {
   "cell_type": "markdown",
   "metadata": {},
   "source": [
    "# Constants"
   ]
  },
  {
   "cell_type": "code",
   "execution_count": 31,
   "metadata": {},
   "outputs": [],
   "source": [
    "dotenv_path = (\"/Users/maukanmir/Documents/Machine-Learning/Web-Scraping-Code/Player-Salaries/dot.env\")\n",
    "load_dotenv(dotenv_path)\n",
    "\n",
    "DB_USER = os.getenv(\"DB_USER\")\n",
    "DB_PASSWORD = os.getenv(\"DB_PASSWORD\")\n",
    "DB_HOST = os.getenv(\"DB_HOST\")\n",
    "DB_PORT = os.getenv(\"DB_PORT\")\n",
    "DB_NAME = os.getenv(\"DB_NAME\")\n",
    "TABLE_NAME = \"player_stats\""
   ]
  },
  {
   "cell_type": "markdown",
   "metadata": {},
   "source": [
    "# Functions"
   ]
  },
  {
   "cell_type": "code",
   "execution_count": 32,
   "metadata": {},
   "outputs": [],
   "source": [
    "def extract_nba_stats(html_content, year):\n",
    "  \n",
    "  soup = BeautifulSoup(html_content, 'html.parser')\n",
    "  master_df = []\n",
    "  tds = soup.find_all(\"td\")\n",
    "  player_stats = [td.text.strip() for td in tds]\n",
    "  player_columns = [\"Rank\", \"Name\", \"Team\", \"GP\", \"MPG\", \"PPG\", \"FGM\", \"FGA\", \"FG%\", \"3PM\", \"3PA\", \"3P%\", \"FTM\", \"FTA\", \"FT%\", \"ORB\", \"DRB\", \"RPG\", \"APG\", \"SPG\", \"BPG\", \"TOV\", \"PF\"]\n",
    "\n",
    "  count = 0\n",
    "  player_dict = {}\n",
    "  for idx, player_stat in enumerate(player_stats):\n",
    "    \n",
    "    if count == 22:\n",
    "      master_df.append(player_dict)\n",
    "      player_dict = {}\n",
    "      count = 0\n",
    "    else:\n",
    "      col = player_columns[count]\n",
    "      player_dict[col] = player_stat\n",
    "      count +=1\n",
    "  \n",
    "  df = pd.DataFrame(master_df)\n",
    "  df[\"season\"] = year\n",
    "  return df"
   ]
  },
  {
   "cell_type": "code",
   "execution_count": 33,
   "metadata": {},
   "outputs": [],
   "source": [
    "years = [str(year+1) for year in range(1990, 2024)]\n",
    "pages = range(1, 4)"
   ]
  },
  {
   "cell_type": "code",
   "execution_count": 36,
   "metadata": {},
   "outputs": [],
   "source": [
    "all_data= pd.DataFrame()\n",
    "for year in years:\n",
    "  for page in pages:\n",
    "    base_url = f\"https://basketball.realgm.com/nba/stats/{year}/Averages/Qualified/points/All/desc/{page}/Regular_Season\"\n",
    "    response = requests.get(base_url)\n",
    "    try:\n",
    "      df = extract_nba_stats(response.text, year)\n",
    "      all_data = pd.concat([all_data, df])\n",
    "    except Exception as error:\n",
    "      print(f\" THe error is {error}\")"
   ]
  },
  {
   "cell_type": "code",
   "execution_count": 39,
   "metadata": {},
   "outputs": [],
   "source": [
    "all_data.drop(\"Rank\", inplace=True, axis=1)"
   ]
  },
  {
   "cell_type": "code",
   "execution_count": 169,
   "metadata": {},
   "outputs": [],
   "source": [
    "all_data['id'] = range(1, len(all_data) + 1)"
   ]
  },
  {
   "cell_type": "code",
   "execution_count": 160,
   "metadata": {},
   "outputs": [],
   "source": [
    "cols_to_change = [ col for col in all_data.columns if col not in [\"Team\", \"Name\", \"GP\", \"season\"]]\n",
    "\n",
    "for col in cols_to_change:\n",
    "  all_data[col] = all_data[col].apply(lambda x: float(x))\n",
    "\n",
    "all_data[\"GP\"] = all_data[\"GP\"].apply(lambda x: int(x))\n",
    "all_data[\"season\"] = all_data[\"season\"].apply(lambda x: int(x))"
   ]
  },
  {
   "cell_type": "code",
   "execution_count": 184,
   "metadata": {},
   "outputs": [
    {
     "name": "stdout",
     "output_type": "stream",
     "text": [
      "Database operation failed. Error: tuple index out of range\n"
     ]
    }
   ],
   "source": [
    "try:\n",
    "    with psycopg2.connect(\n",
    "        host=DB_HOST,\n",
    "        database=DB_NAME,\n",
    "        user=DB_USER,\n",
    "        password=DB_PASSWORD\n",
    "    ) as conn:\n",
    "        with conn.cursor() as cur:\n",
    "            cur.execute(f\"DROP TABLE IF EXISTS {TABLE_NAME};\")\n",
    "            cur.execute(f\"\"\"\n",
    "                CREATE TABLE {TABLE_NAME} (\n",
    "                    id INTEGER PRIMARY KEY,\n",
    "                    Name VARCHAR(255),\n",
    "                    Team VARCHAR(10),\n",
    "                    GP INTEGER,\n",
    "                    MPG FLOAT,\n",
    "                    PPG FLOAT,\n",
    "                    FGM FLOAT,\n",
    "                    FGA FLOAT,\n",
    "                    \"FG%\" FLOAT,\n",
    "                    \"3PM\" FLOAT,\n",
    "                    \"3PA\" FLOAT,\n",
    "                    \"3P%\" FLOAT,\n",
    "                    FTM FLOAT,\n",
    "                    FTA FLOAT,\n",
    "                    \"FT%\" FLOAT,\n",
    "                    ORB FLOAT,\n",
    "                    DRB FLOAT,\n",
    "                    RPG FLOAT,\n",
    "                    APG FLOAT,\n",
    "                    SPG FLOAT,\n",
    "                    BPG FLOAT,\n",
    "                    TOV FLOAT,\n",
    "                    season INTEGER\n",
    "                );\n",
    "            \"\"\")\n",
    "\n",
    "            insert_query = f'''\n",
    "                INSERT INTO {TABLE_NAME} (\n",
    "                    id, Name, Team, GP, MPG, PPG, FGM, FGA, \"FG%\", \"3PM\", \"3PA\", \"3P%\", \n",
    "                    FTM, FTA, \"FT%\", ORB, DRB, RPG, APG, SPG, BPG, TOV, season\n",
    "                ) VALUES (%s, %s, %s, %s, %s, %s, %s, %s, %s, %s, %s, %s, %s, %s, %s, %s, %s, %s, %s, %s, %s, %s, %s)\n",
    "            '''\n",
    "            rows_to_insert = [\n",
    "                (   \n",
    "                    row[\"id\"],\n",
    "                    row['Name'],\n",
    "                    row['Team'],\n",
    "                    row['GP'],\n",
    "                    row['MPG'],\n",
    "                    row['PPG'],\n",
    "                    row['FGM'],\n",
    "                    row['FGA'],\n",
    "                    row['FG%'],\n",
    "                    row['3PM'],\n",
    "                    row['3PA'],\n",
    "                    row['3P%'],\n",
    "                    row['FTM'],\n",
    "                    row['FTA'],\n",
    "                    row['FT%'],\n",
    "                    row['ORB'],\n",
    "                    row['DRB'],\n",
    "                    row['RPG'],\n",
    "                    row['APG'],\n",
    "                    row['SPG'],\n",
    "                    row['BPG'],\n",
    "                    row['TOV'],\n",
    "                    row['season']\n",
    "                )\n",
    "                for index, row in all_data.iterrows()\n",
    "            ]\n",
    "\n",
    "            cur.executemany(insert_query, rows_to_insert)\n",
    "            conn.commit()\n",
    "            print(\"Data successfully written to the database.\")\n",
    "except Exception as e:\n",
    "    print(f\"Database operation failed. Error: {e}\")\n"
   ]
  },
  {
   "cell_type": "code",
   "execution_count": null,
   "metadata": {},
   "outputs": [],
   "source": [
    "\n",
    "# # Create Chrome options if needed (optional)\n",
    "# opts = Options()\n",
    "# opts.add_argument(\"--headless\")  # Example option, run Chrome in headless mode\n",
    "\n",
    "# # Initialize the WebDriver using webdriver-manager\n",
    "# web_driver = webdriver.Chrome(service=Service(ChromeDriverManager().install()), options=opts)\n",
    "\n",
    "# # Example usage\n",
    "# web_driver.get(\"https://www.nba.com/stats/leaders?SeasonType=Regular+Season&Season=2023-24\")\n",
    "# print(web_driver.title)  # Prints the title of the page"
   ]
  }
 ],
 "metadata": {
  "kernelspec": {
   "display_name": "machine-learning-env",
   "language": "python",
   "name": "python3"
  },
  "language_info": {
   "codemirror_mode": {
    "name": "ipython",
    "version": 3
   },
   "file_extension": ".py",
   "mimetype": "text/x-python",
   "name": "python",
   "nbconvert_exporter": "python",
   "pygments_lexer": "ipython3",
   "version": "3.9.19"
  }
 },
 "nbformat": 4,
 "nbformat_minor": 2
}
