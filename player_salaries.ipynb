{
 "cells": [
  {
   "cell_type": "markdown",
   "metadata": {},
   "source": [
    "# Imports"
   ]
  },
  {
   "cell_type": "code",
   "execution_count": 61,
   "metadata": {},
   "outputs": [],
   "source": [
    "import os\n",
    "import pandas as pd\n",
    "\n",
    "\n",
    "from dotenv import load_dotenv\n",
    "import requests\n",
    "from sqlalchemy import create_engine\n",
    "\n",
    "from packages.utils import extract_player_salaries,load_into_db"
   ]
  },
  {
   "cell_type": "code",
   "execution_count": 62,
   "metadata": {},
   "outputs": [],
   "source": [
    "\n",
    "dotenv_path = (\"/Users/maukanmir/Documents/Machine-Learning/Web-Scraping-Code/Player-Salaries/dot.env\")\n",
    "load_dotenv(dotenv_path)\n",
    "\n",
    "DB_USER = os.getenv(\"DB_USER\")\n",
    "DB_PASSWORD = os.getenv(\"DB_PASSWORD\")\n",
    "DB_HOST = os.getenv(\"DB_HOST\")\n",
    "DB_PORT = os.getenv(\"DB_PORT\")\n",
    "DB_NAME = os.getenv(\"DB_NAME\")\n",
    "TABLE_NAME_PlAYER_SALARIES = \"player_salaries\"\n",
    "TABLE_NAME_MASTER_PLAYER_SALARIES = \"master_player_salaries\"\n",
    "\n",
    "engine = create_engine(f'postgresql+psycopg2://{DB_USER}:{DB_PASSWORD}@{DB_HOST}/{DB_NAME}')"
   ]
  },
  {
   "cell_type": "markdown",
   "metadata": {},
   "source": [
    "# Grabbing Player Salaries from 2011-2024"
   ]
  },
  {
   "cell_type": "code",
   "execution_count": 20,
   "metadata": {},
   "outputs": [],
   "source": [
    "years = [str(year) for year in range(2011, 2025)]\n",
    "all_data = pd.DataFrame()\n",
    "\n",
    "for year in years:\n",
    "  url = f\"https://www.spotrac.com/nba/rankings/player/_/year/{year}/sort/cash_total\"\n",
    "  response = requests.get(url)\n",
    "  year = int(year)\n",
    "  df = extract_player_salaries(response.text, year)\n",
    "  all_data = pd.concat([all_data, df])"
   ]
  },
  {
   "cell_type": "markdown",
   "metadata": {},
   "source": [
    "# Download Dataset into DB"
   ]
  },
  {
   "cell_type": "code",
   "execution_count": 21,
   "metadata": {},
   "outputs": [
    {
     "name": "stdout",
     "output_type": "stream",
     "text": [
      "Data successfully written to the database.\n"
     ]
    }
   ],
   "source": [
    "load_into_db(all_data, engine, TABLE_NAME_PlAYER_SALARIES)"
   ]
  },
  {
   "cell_type": "markdown",
   "metadata": {},
   "source": [
    "# Grabbing Player Salaries From 1989-2024"
   ]
  },
  {
   "cell_type": "code",
   "execution_count": 65,
   "metadata": {},
   "outputs": [],
   "source": [
    "all_data = pd.DataFrame()\n",
    "years = [str(year) + \"-\" + str(year+1) for year in range(1989, 2025)]\n",
    "for year in years:\n",
    "  base_url = \"https://hoopshype.com/salaries/players/{year}/\"\n",
    "  response = requests.get(base_url)\n",
    "  df = grab_all_salaries(response.text, year)\n",
    "  all_data = pd.concat([all_data, df])\n"
   ]
  },
  {
   "cell_type": "code",
   "execution_count": 64,
   "metadata": {},
   "outputs": [],
   "source": [
    "def grab_all_salaries(html_content, year:str):\n",
    "  \"\"\"_summary_\n",
    "\n",
    "  Args:\n",
    "      response (_type_): HTML content\n",
    "      year (str): _description_\n",
    "\n",
    "  Returns:\n",
    "      _type_: _description_\n",
    "  \"\"\"\n",
    "\n",
    "  soup = BeautifulSoup(html_content, \"html.parser\")\n",
    "  tds = soup.findAll(\"td\")\n",
    "\n",
    "  mega_string = \" \".join([td.text.strip() for td in tds][1:])\n",
    "  cleaned_list = [block.strip().split(\" \") for block in mega_string.split(\".\")[1:]]\n",
    "  df = []\n",
    "  for block in cleaned_list:\n",
    "    players = {}\n",
    "    for idx, player in enumerate(block):\n",
    "      if \"$\" in player and \"$\" in block[idx-1]:\n",
    "        continue\n",
    "      elif \"$\" in player and block[idx-1].isalpha():\n",
    "        players[\"salary\"] = int(player.replace(\",\", \"\").replace(\"$\", \"\"))\n",
    "      elif idx ==2 and player.isalpha():\n",
    "        players[\"name\"] = block[idx-2]+ \" \" +  block[idx-1] + \" \" + player\n",
    "      elif player.isalpha() and block[idx-1].isalpha() and \"$\" in block[idx+1]:\n",
    "        players[\"name\"] = block[idx-1] + \" \" + player\n",
    "        df.append(players)\n",
    "\n",
    "  df = pd.DataFrame(df)\n",
    "  df[\"season\"] = year\n",
    "  return df"
   ]
  },
  {
   "cell_type": "code",
   "execution_count": 67,
   "metadata": {},
   "outputs": [
    {
     "name": "stdout",
     "output_type": "stream",
     "text": [
      "Data successfully written to the database.\n"
     ]
    }
   ],
   "source": [
    "load_into_db(all_data, engine, TABLE_NAME_MASTER_PLAYER_SALARIES)"
   ]
  }
 ],
 "metadata": {
  "kernelspec": {
   "display_name": "machine-learning-env",
   "language": "python",
   "name": "python3"
  },
  "language_info": {
   "codemirror_mode": {
    "name": "ipython",
    "version": 3
   },
   "file_extension": ".py",
   "mimetype": "text/x-python",
   "name": "python",
   "nbconvert_exporter": "python",
   "pygments_lexer": "ipython3",
   "version": "3.9.19"
  }
 },
 "nbformat": 4,
 "nbformat_minor": 2
}
